{
 "cells": [
  {
   "cell_type": "code",
   "execution_count": 5,
   "metadata": {},
   "outputs": [
    {
     "name": "stdout",
     "output_type": "stream",
     "text": [
      "Shape of data is:  (61532, 42)\n",
      "\n",
      "Columns are:  Index(['icustay_id', 'hadm_id', 'age', 'gcs', 'urineoutput', 'heartrate_max',\n",
      "       'heartrate_min', 'heartrate_mean', 'meanbp_max ', 'meanbp_min',\n",
      "       'meanbp_mean', 'resprate_max', 'resprate_min', 'resprate_mean',\n",
      "       'tempc_max', 'tempc_min', 'tempc_mean', 'mechvent', 'wbc_max',\n",
      "       'wbc_min', 'wbc_mean', 'glucose_max', 'glucose_min', 'glucose_mean',\n",
      "       'sodium_max', 'sodium_min', 'sodium_mean', 'potassium_max',\n",
      "       'potassium_min', 'potassium_mean', 'bicarbonate_max', 'bicarbonate_min',\n",
      "       'bicarbonate_mean', 'evaluation_and_management', 'surgery', 'radiology',\n",
      "       'anesthesia', 'emerging_technology', 'pathology_and_laboratory',\n",
      "       'performance_measurement', 'medicine', 'oasis'],\n",
      "      dtype='object')\n"
     ]
    }
   ],
   "source": [
    "import pandas as pd\n",
    "import csv\n",
    "import numpy as np\n",
    "from sklearn.model_selection import train_test_split\n",
    "from sklearn.ensemble import RandomForestRegressor\n",
    "import warnings\n",
    "warnings.filterwarnings(\"ignore\", category=DeprecationWarning) \n",
    "\n",
    "data = pd.read_csv('E:/waterloo_documents/Health_Informatics/training_data_count.csv')\n",
    "\n",
    "print('Shape of data is: ',data.shape)\n",
    "print('\\nColumns are: ',data.columns)"
   ]
  },
  {
   "cell_type": "code",
   "execution_count": 4,
   "metadata": {},
   "outputs": [
    {
     "data": {
      "text/html": [
       "<div>\n",
       "<style scoped>\n",
       "    .dataframe tbody tr th:only-of-type {\n",
       "        vertical-align: middle;\n",
       "    }\n",
       "\n",
       "    .dataframe tbody tr th {\n",
       "        vertical-align: top;\n",
       "    }\n",
       "\n",
       "    .dataframe thead th {\n",
       "        text-align: right;\n",
       "    }\n",
       "</style>\n",
       "<table border=\"1\" class=\"dataframe\">\n",
       "  <thead>\n",
       "    <tr style=\"text-align: right;\">\n",
       "      <th></th>\n",
       "      <th>icustay_id</th>\n",
       "      <th>hadm_id</th>\n",
       "      <th>age</th>\n",
       "      <th>gcs</th>\n",
       "      <th>urineoutput</th>\n",
       "      <th>heartrate_max</th>\n",
       "      <th>heartrate_min</th>\n",
       "      <th>heartrate_mean</th>\n",
       "      <th>meanbp_max</th>\n",
       "      <th>meanbp_min</th>\n",
       "      <th>...</th>\n",
       "      <th>bicarbonate_mean</th>\n",
       "      <th>evaluation_and_management</th>\n",
       "      <th>surgery</th>\n",
       "      <th>radiology</th>\n",
       "      <th>anesthesia</th>\n",
       "      <th>emerging_technology</th>\n",
       "      <th>pathology_and_laboratory</th>\n",
       "      <th>performance_measurement</th>\n",
       "      <th>medicine</th>\n",
       "      <th>oasis</th>\n",
       "    </tr>\n",
       "  </thead>\n",
       "  <tbody>\n",
       "    <tr>\n",
       "      <th>0</th>\n",
       "      <td>200016</td>\n",
       "      <td>117458</td>\n",
       "      <td>67</td>\n",
       "      <td>15.0</td>\n",
       "      <td>1275.0</td>\n",
       "      <td>91.0</td>\n",
       "      <td>59.0</td>\n",
       "      <td>67.185185</td>\n",
       "      <td>104.0</td>\n",
       "      <td>67.0</td>\n",
       "      <td>...</td>\n",
       "      <td>22.0</td>\n",
       "      <td>NaN</td>\n",
       "      <td>NaN</td>\n",
       "      <td>NaN</td>\n",
       "      <td>NaN</td>\n",
       "      <td>NaN</td>\n",
       "      <td>NaN</td>\n",
       "      <td>NaN</td>\n",
       "      <td>NaN</td>\n",
       "      <td>17</td>\n",
       "    </tr>\n",
       "    <tr>\n",
       "      <th>1</th>\n",
       "      <td>200033</td>\n",
       "      <td>198650</td>\n",
       "      <td>67</td>\n",
       "      <td>14.0</td>\n",
       "      <td>2300.0</td>\n",
       "      <td>100.0</td>\n",
       "      <td>60.0</td>\n",
       "      <td>73.260870</td>\n",
       "      <td>98.0</td>\n",
       "      <td>72.0</td>\n",
       "      <td>...</td>\n",
       "      <td>24.0</td>\n",
       "      <td>26.0</td>\n",
       "      <td>6.0</td>\n",
       "      <td>1.0</td>\n",
       "      <td>0.0</td>\n",
       "      <td>0.0</td>\n",
       "      <td>0.0</td>\n",
       "      <td>0.0</td>\n",
       "      <td>11.0</td>\n",
       "      <td>24</td>\n",
       "    </tr>\n",
       "    <tr>\n",
       "      <th>2</th>\n",
       "      <td>200055</td>\n",
       "      <td>147080</td>\n",
       "      <td>31</td>\n",
       "      <td>14.0</td>\n",
       "      <td>NaN</td>\n",
       "      <td>101.0</td>\n",
       "      <td>72.0</td>\n",
       "      <td>86.875000</td>\n",
       "      <td>85.0</td>\n",
       "      <td>53.0</td>\n",
       "      <td>...</td>\n",
       "      <td>29.5</td>\n",
       "      <td>5.0</td>\n",
       "      <td>0.0</td>\n",
       "      <td>0.0</td>\n",
       "      <td>0.0</td>\n",
       "      <td>0.0</td>\n",
       "      <td>0.0</td>\n",
       "      <td>0.0</td>\n",
       "      <td>1.0</td>\n",
       "      <td>20</td>\n",
       "    </tr>\n",
       "    <tr>\n",
       "      <th>3</th>\n",
       "      <td>200060</td>\n",
       "      <td>158405</td>\n",
       "      <td>0</td>\n",
       "      <td>NaN</td>\n",
       "      <td>76.0</td>\n",
       "      <td>158.0</td>\n",
       "      <td>107.0</td>\n",
       "      <td>123.782609</td>\n",
       "      <td>NaN</td>\n",
       "      <td>NaN</td>\n",
       "      <td>...</td>\n",
       "      <td>NaN</td>\n",
       "      <td>NaN</td>\n",
       "      <td>NaN</td>\n",
       "      <td>NaN</td>\n",
       "      <td>NaN</td>\n",
       "      <td>NaN</td>\n",
       "      <td>NaN</td>\n",
       "      <td>NaN</td>\n",
       "      <td>NaN</td>\n",
       "      <td>25</td>\n",
       "    </tr>\n",
       "    <tr>\n",
       "      <th>4</th>\n",
       "      <td>200099</td>\n",
       "      <td>175374</td>\n",
       "      <td>79</td>\n",
       "      <td>14.0</td>\n",
       "      <td>955.0</td>\n",
       "      <td>93.0</td>\n",
       "      <td>68.0</td>\n",
       "      <td>82.656250</td>\n",
       "      <td>102.0</td>\n",
       "      <td>50.0</td>\n",
       "      <td>...</td>\n",
       "      <td>22.0</td>\n",
       "      <td>0.0</td>\n",
       "      <td>1.0</td>\n",
       "      <td>0.0</td>\n",
       "      <td>0.0</td>\n",
       "      <td>0.0</td>\n",
       "      <td>0.0</td>\n",
       "      <td>0.0</td>\n",
       "      <td>0.0</td>\n",
       "      <td>24</td>\n",
       "    </tr>\n",
       "  </tbody>\n",
       "</table>\n",
       "<p>5 rows × 42 columns</p>\n",
       "</div>"
      ],
      "text/plain": [
       "   icustay_id  hadm_id  age   gcs  urineoutput  heartrate_max  heartrate_min  \\\n",
       "0      200016   117458   67  15.0       1275.0           91.0           59.0   \n",
       "1      200033   198650   67  14.0       2300.0          100.0           60.0   \n",
       "2      200055   147080   31  14.0          NaN          101.0           72.0   \n",
       "3      200060   158405    0   NaN         76.0          158.0          107.0   \n",
       "4      200099   175374   79  14.0        955.0           93.0           68.0   \n",
       "\n",
       "   heartrate_mean  meanbp_max   meanbp_min  ...    bicarbonate_mean  \\\n",
       "0       67.185185        104.0        67.0  ...                22.0   \n",
       "1       73.260870         98.0        72.0  ...                24.0   \n",
       "2       86.875000         85.0        53.0  ...                29.5   \n",
       "3      123.782609          NaN         NaN  ...                 NaN   \n",
       "4       82.656250        102.0        50.0  ...                22.0   \n",
       "\n",
       "   evaluation_and_management  surgery  radiology  anesthesia  \\\n",
       "0                        NaN      NaN        NaN         NaN   \n",
       "1                       26.0      6.0        1.0         0.0   \n",
       "2                        5.0      0.0        0.0         0.0   \n",
       "3                        NaN      NaN        NaN         NaN   \n",
       "4                        0.0      1.0        0.0         0.0   \n",
       "\n",
       "   emerging_technology  pathology_and_laboratory  performance_measurement  \\\n",
       "0                  NaN                       NaN                      NaN   \n",
       "1                  0.0                       0.0                      0.0   \n",
       "2                  0.0                       0.0                      0.0   \n",
       "3                  NaN                       NaN                      NaN   \n",
       "4                  0.0                       0.0                      0.0   \n",
       "\n",
       "   medicine  oasis  \n",
       "0       NaN     17  \n",
       "1      11.0     24  \n",
       "2       1.0     20  \n",
       "3       NaN     25  \n",
       "4       0.0     24  \n",
       "\n",
       "[5 rows x 42 columns]"
      ]
     },
     "execution_count": 4,
     "metadata": {},
     "output_type": "execute_result"
    }
   ],
   "source": [
    "data.head()"
   ]
  },
  {
   "cell_type": "code",
   "execution_count": 4,
   "metadata": {},
   "outputs": [
    {
     "name": "stdout",
     "output_type": "stream",
     "text": [
      "Shape of data after removing null values:  (42490, 42)\n"
     ]
    }
   ],
   "source": [
    "#drop the rows having null values\n",
    "data.dropna(inplace = True)\n",
    "print('Shape of data after removing null values: ',data.shape)"
   ]
  },
  {
   "cell_type": "code",
   "execution_count": 5,
   "metadata": {},
   "outputs": [
    {
     "name": "stdout",
     "output_type": "stream",
     "text": [
      "Feature list is : \n",
      " ['icustay_id', 'hadm_id', 'age', 'gcs', 'urineoutput', 'heartrate_max', 'heartrate_min', 'heartrate_mean', 'meanbp_max ', 'meanbp_min', 'meanbp_mean', 'resprate_max', 'resprate_min', 'resprate_mean', 'tempc_max', 'tempc_min', 'tempc_mean', 'mechvent', 'wbc_max', 'wbc_min', 'wbc_mean', 'glucose_max', 'glucose_min', 'glucose_mean', 'sodium_max', 'sodium_min', 'sodium_mean', 'potassium_max', 'potassium_min', 'potassium_mean', 'bicarbonate_max', 'bicarbonate_min', 'bicarbonate_mean', 'evaluation_and_management', 'surgery', 'radiology', 'anesthesia', 'emerging_technology', 'pathology_and_laboratory', 'performance_measurement', 'medicine']\n",
      "\n",
      "Feature Shape is:  (42490, 41)\n"
     ]
    }
   ],
   "source": [
    "# Labels are the values we want to predict\n",
    "labels = data['oasis']\n",
    "\n",
    "#drop the label from the training data\n",
    "data= data.drop('oasis', axis = 1)\n",
    "feature_list = list(data.columns)\n",
    "\n",
    "print(\"Feature list is : \\n\", feature_list)\n",
    "features = np.array(data)\n",
    "print('\\nFeature Shape is: ',features.shape)"
   ]
  },
  {
   "cell_type": "code",
   "execution_count": 6,
   "metadata": {},
   "outputs": [
    {
     "name": "stdout",
     "output_type": "stream",
     "text": [
      "Training Features Shape: (31867, 41)\n",
      "Training Labels Shape: (31867,)\n",
      "Testing Features Shape: (10623, 41)\n",
      "Testing Labels Shape: (10623,)\n"
     ]
    }
   ],
   "source": [
    "#split the data into training and testing data\n",
    "\n",
    "train_features, test_features, train_labels, test_labels = train_test_split(features, labels, test_size = 0.25,random_state = 42)\n",
    "print('Training Features Shape:', train_features.shape)\n",
    "print('Training Labels Shape:', train_labels.shape)\n",
    "print('Testing Features Shape:', test_features.shape)\n",
    "print('Testing Labels Shape:', test_labels.shape)\n"
   ]
  },
  {
   "cell_type": "code",
   "execution_count": 7,
   "metadata": {},
   "outputs": [],
   "source": [
    "#create a Random Forest regressor model\n",
    "rf = RandomForestRegressor(n_estimators= 1000, random_state=42)\n",
    "\n",
    "# Train the model on training data\n",
    "rf.fit(train_features, train_labels);\n",
    "\n",
    "#make predictions on the test data\n",
    "predictions = rf.predict(test_features)\n"
   ]
  },
  {
   "cell_type": "code",
   "execution_count": 8,
   "metadata": {},
   "outputs": [
    {
     "name": "stdout",
     "output_type": "stream",
     "text": [
      "[39.153 40.279 31.106 ... 24.928 35.48  38.631]\n"
     ]
    }
   ],
   "source": [
    "print(predictions)"
   ]
  },
  {
   "cell_type": "code",
   "execution_count": 9,
   "metadata": {},
   "outputs": [
    {
     "name": "stdout",
     "output_type": "stream",
     "text": [
      "Mean Absolute Error: 2.47\n"
     ]
    }
   ],
   "source": [
    "# Calculate the absolute errors\n",
    "errors = abs(predictions - test_labels)\n",
    "\n",
    "# Print out the mean absolute error (mae)\n",
    "print('Mean Absolute Error:', round(np.mean(errors), 2))"
   ]
  },
  {
   "cell_type": "code",
   "execution_count": 10,
   "metadata": {},
   "outputs": [
    {
     "name": "stdout",
     "output_type": "stream",
     "text": [
      "Accuracy: 91.25 %.\n"
     ]
    }
   ],
   "source": [
    "# Calculate and display accuracy\n",
    "\n",
    "mape = 100 * (errors / test_labels)\n",
    "accuracy = 100 - np.mean(mape)\n",
    "print('Accuracy:', round(accuracy, 2), '%.')"
   ]
  },
  {
   "cell_type": "code",
   "execution_count": 11,
   "metadata": {},
   "outputs": [
    {
     "name": "stdout",
     "output_type": "stream",
     "text": [
      "   icustay_id   hadm_id  predictions    nurses\n",
      "0    216996.0  188764.0       39.153  1.320491\n",
      "1    276434.0  162146.0       40.279  1.358467\n",
      "2    247575.0  188204.0       31.106  1.049095\n",
      "3    256155.0  110299.0       29.383  0.990984\n",
      "4    285109.0  162397.0       37.945  1.279750\n"
     ]
    }
   ],
   "source": [
    "df = pd.DataFrame(test_features, columns = ['icustay_id', 'hadm_id', 'age', 'gcs', 'urineoutput', 'heartrate_max', 'heartrate_min', 'heartrate_mean', 'meanbp_max ', 'meanbp_min', 'meanbp_mean', 'resprate_max', 'resprate_min', 'resprate_mean', 'tempc_max', 'tempc_min', 'tempc_mean', 'mechvent', 'wbc_max', 'wbc_min', 'wbc_mean', 'glucose_max', 'glucose_min', 'glucose_mean', 'sodium_max', 'sodium_min', 'sodium_mean', 'potassium_max', 'potassium_min', 'potassium_mean', 'bicarbonate_max', 'bicarbonate_min', 'bicarbonate_mean', 'evaluation_and_management', 'surgery', 'radiology', 'anesthesia', 'emerging_technology', 'pathology_and_laboratory', 'performance_measurement', 'medicine'])\n",
    "columns = [ 'age', 'gcs', 'urineoutput', 'heartrate_max', 'heartrate_min', 'heartrate_mean', 'meanbp_max ', 'meanbp_min', 'meanbp_mean', 'resprate_max', 'resprate_min', 'resprate_mean', 'tempc_max', 'tempc_min', 'tempc_mean', 'mechvent', 'wbc_max', 'wbc_min', 'wbc_mean', 'glucose_max', 'glucose_min', 'glucose_mean', 'sodium_max', 'sodium_min', 'sodium_mean', 'potassium_max', 'potassium_min', 'potassium_mean', 'bicarbonate_max', 'bicarbonate_min', 'bicarbonate_mean', 'evaluation_and_management', 'surgery', 'radiology', 'anesthesia', 'emerging_technology', 'pathology_and_laboratory', 'performance_measurement', 'medicine']\n",
    "df.drop(columns, inplace = True, axis = 1)\n",
    "\n",
    "#added the scores predicted in dataframe\n",
    "df['predictions'] = predictions\n",
    "\n",
    "#The mean value of the scores of all the patients\n",
    "mean = 29.650328284469868\n",
    "\n",
    "#Calculated the number of nurses based on the mean value\n",
    "df['nurses'] = df['predictions']/mean\n",
    "\n",
    "print(df.head())\n",
    "\n",
    "#save the data in a csv file\n",
    "df.to_csv('test_data.csv')"
   ]
  },
  {
   "cell_type": "code",
   "execution_count": null,
   "metadata": {},
   "outputs": [],
   "source": []
  },
  {
   "cell_type": "code",
   "execution_count": null,
   "metadata": {},
   "outputs": [],
   "source": []
  }
 ],
 "metadata": {
  "kernelspec": {
   "display_name": "Python 3",
   "language": "python",
   "name": "python3"
  },
  "language_info": {
   "codemirror_mode": {
    "name": "ipython",
    "version": 3
   },
   "file_extension": ".py",
   "mimetype": "text/x-python",
   "name": "python",
   "nbconvert_exporter": "python",
   "pygments_lexer": "ipython3",
   "version": "3.7.0"
  }
 },
 "nbformat": 4,
 "nbformat_minor": 2
}
